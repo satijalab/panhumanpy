{
 "cells": [
  {
   "cell_type": "markdown",
   "id": "762af019-36bc-4cd0-bec0-c8f211268a41",
   "metadata": {},
   "source": [
    "# Introduction"
   ]
  },
  {
   "cell_type": "markdown",
   "id": "d4110e7d-605f-44a7-8691-1158bc1fae26",
   "metadata": {},
   "source": [
    "This is a short python tutorial for using the panhumanpy package for hierarchical cell type annotation. To get started, we recommend that you install conda or an equivalent, and create a fresh conda environment wherein to install panhumanpy as follows: "
   ]
  },
  {
   "cell_type": "code",
   "execution_count": null,
   "id": "1de4838a-9454-4964-a2ee-7ff0155a0686",
   "metadata": {},
   "outputs": [],
   "source": [
    "# From the command line, to create and activate conda env:\n",
    "# conda create -n panhumanpy_env python=3.9\n",
    "# conda activate panhumanpy_env\n",
    "\n",
    "# To install panhumanpy,\n",
    "# For CPU based use:\n",
    "# pip install git+https://github.com/satijalab/panhumanpy.git\n",
    "# For GPU based use:\n",
    "# pip install git+https://github.com/satijalab/panhumanpy.git#egg=panhumanpy[gpu]"
   ]
  },
  {
   "cell_type": "markdown",
   "id": "92c07fed-754e-44ed-a78b-dc4236aad46c",
   "metadata": {},
   "source": [
    "panhumanpy offers two interfaces to build a pipeline for cell type annotation and to obtain a low dimensional representation of the dataset for visualisation. The high-level interface provides quick and easy acess to inference using the Azimuth Neural Network, while the low-level interface is more modular and allows for finer control and customisation of the workflow. <br>\n",
    "<br>\n",
    "To begin, import the panhumanpy package (and anndata, optional)."
   ]
  },
  {
   "cell_type": "code",
   "execution_count": null,
   "id": "52ba0091-435d-44b7-b79b-ee45ff5ba68c",
   "metadata": {},
   "outputs": [],
   "source": [
    "import panhumanpy as ph\n",
    "import anndata as ad       #optional"
   ]
  },
  {
   "cell_type": "markdown",
   "id": "8463b108-1b56-4523-ad1a-b6133c507c4f",
   "metadata": {},
   "source": [
    "# High-level interface"
   ]
  },
  {
   "cell_type": "markdown",
   "id": "64fee78a-f0ab-49e2-93b1-b837bce8eb3c",
   "metadata": {},
   "source": [
    "The high-level interface of the panhumanpy package is through the AzimuthNN class. We can pass either an h5ad object, or an anndata object read from the h5ad object to the AzimuthNN object for annotation. "
   ]
  },
  {
   "cell_type": "code",
   "execution_count": null,
   "id": "8d6b9906-6b9e-481a-8662-8c06715ffbf0",
   "metadata": {},
   "outputs": [],
   "source": [
    "# file path to query h5ad\n",
    "query_path = \"path/to/h5ad\"\n",
    "\n",
    "# optional\n",
    "query = ad.read_h5ad(query_path)"
   ]
  },
  {
   "cell_type": "code",
   "execution_count": null,
   "id": "f3ccd3dc-6a94-4d8f-b577-2ef9175dbfb1",
   "metadata": {
    "scrolled": true
   },
   "outputs": [],
   "source": [
    "# For documentation\n",
    "help(ph.AzimuthNN)"
   ]
  },
  {
   "cell_type": "markdown",
   "id": "8bb80b46-0baa-4050-bba4-88f7d1ec7477",
   "metadata": {},
   "source": [
    "#### Simplified workflow"
   ]
  },
  {
   "cell_type": "code",
   "execution_count": null,
   "id": "a1b3e7fc-f98f-4dfb-8136-200df37b1dfb",
   "metadata": {},
   "outputs": [],
   "source": [
    "#azimuth = ph.AzimuthNN(query_path)     # if passing the filepath\n",
    "azimuth = ph.AzimuthNN(query)\n",
    "embeddings = azimuth.azimuth_embed()\n",
    "umap = azimuth.azimuth_umap()\n",
    "cell_metadata = azimuth.cells_meta"
   ]
  },
  {
   "cell_type": "markdown",
   "id": "a6df2023-08ab-4719-b1c8-1a7d72cc8d48",
   "metadata": {},
   "source": [
    "In the above, cell_metadata is a pandas dataframe with the annotations from the Azimuth Neural Network. The important columns are as follows:<br>\n",
    "-'full_hierarchical_labels': The complete cell type label with all hierarchical levels.<br>\n",
    "-'level_zero_labels': Cell type labels at the lowest resolution.<br>\n",
    "-'final_level_labels': Cell type labels at the highest resolution, note that this label comes from different levels for different cells, -as the maximum hierarchical depth is not uniform across all cells.<br>\n",
    "-'final_level_softmax_prob': The confidence values for the predicted final level labels. <br>"
   ]
  },
  {
   "cell_type": "markdown",
   "id": "94534613-b903-494b-aa7b-f125434efe95",
   "metadata": {},
   "source": [
    "#### Digging a little deeper"
   ]
  },
  {
   "cell_type": "markdown",
   "id": "12553d36-209b-4eec-b76f-0d9d72c8591c",
   "metadata": {},
   "source": [
    "Note that in the above we've assumed that the index column of the genes metadata in the anndata object ie query.var consists of gene names. However that is not always the case. In these cases, you need to inspect query.var and select the correct column name where the gene names are stored, and specify this column name when you instantiate the AzimuthNN object. Quite often, gene names are stored in a column called \"gene_symbol\" or in a column called \"feature_name\". \n",
    "\n",
    "With these options, you would instantiate the AzimuthNN object as follows:"
   ]
  },
  {
   "cell_type": "code",
   "execution_count": null,
   "id": "2dacdbb3-988b-44dd-8172-fd947412fdbd",
   "metadata": {},
   "outputs": [],
   "source": [
    "azimuth = ph.AzimuthNN(query, feature_names_col = \"gene_symbol\")"
   ]
  },
  {
   "cell_type": "markdown",
   "id": "913f36d1-8491-49ca-a6d0-60700e5df420",
   "metadata": {},
   "source": [
    "#### Label refinement"
   ]
  },
  {
   "cell_type": "markdown",
   "id": "beffe40d-e0ea-4042-92fd-489c79636b43",
   "metadata": {},
   "source": [
    "We offer you a built-in post-processing step on the hierarchical annotations provided by the Azimuth Neural Network which you can use to obtain annotations with consistent granularity across tissues at three levels for each cell. These refined annotations 'azimuth_broad', 'azimuth_medium', 'azimuth_fine', are added to the metadata dataframe, and lend themselves to easy interpretation. <br>\n",
    "<br>\n",
    "This step is performed as follows:"
   ]
  },
  {
   "cell_type": "code",
   "execution_count": null,
   "id": "d0f12906-dbb5-4296-ae62-48b1b2275c91",
   "metadata": {},
   "outputs": [],
   "source": [
    "azimuth.azimuth_refine()\n",
    "cell_metadata = azimuth.cells_meta"
   ]
  },
  {
   "cell_type": "markdown",
   "id": "15a8cdce-b3d0-442a-bb27-e003d00aa169",
   "metadata": {},
   "source": [
    "#### Saving the annotated object"
   ]
  },
  {
   "cell_type": "markdown",
   "id": "144b75c8-2364-4a92-ba4d-e1089029d279",
   "metadata": {},
   "source": [
    "Finally, you can pack the annotations, and any embeddings and umaps created into an annotated object. You can optionally also save the annotated object at a specified filepath. In case a file with the filename exists already, a datetime stamp is added to the filename."
   ]
  },
  {
   "cell_type": "code",
   "execution_count": null,
   "id": "2dc17d23-0a50-49a1-b576-56895a521f30",
   "metadata": {},
   "outputs": [],
   "source": [
    "annotated_query = azimuth.pack_adata(save_path=\"path/to/save/h5ad\")"
   ]
  },
  {
   "cell_type": "markdown",
   "id": "62d91e87-2a1d-40c9-a4b8-1daab1aee6db",
   "metadata": {},
   "source": [
    "# Low-level flexible interface"
   ]
  },
  {
   "cell_type": "markdown",
   "id": "2f63c719-6aec-49b4-a477-8b625f516f5a",
   "metadata": {},
   "source": [
    "This is intended for low-level interactive usage of the Azimuth Neural Network annotation pipeline. This class provides a comprehensive framework for single-cell RNA-seq annotation using neural network models. It handles the complete workflow from data loading and preprocessing to inference, post-processing, and result visualization. It can be used to create memory-efficient and scalable pipelines for atlas-scale annotation, and also for more exploratory analysis of the annotation process.<br>\n",
    "<br>\n",
    "We shall not be detailing all possible options available in this case, and shall only provide a minimal set of steps that can reproduce the results of the previous section. The user is encouraged to read the documentation and the source-code, and explore all the attributes and the methods in the class."
   ]
  },
  {
   "cell_type": "code",
   "execution_count": null,
   "id": "45bec5ce-32c8-40fe-b446-90e07d2476cf",
   "metadata": {
    "scrolled": true
   },
   "outputs": [],
   "source": [
    "# For documentation\n",
    "help(ph.AzimuthNN_base)"
   ]
  },
  {
   "cell_type": "code",
   "execution_count": null,
   "id": "4c9cf72c-97cf-41de-9c27-0369a730428f",
   "metadata": {},
   "outputs": [],
   "source": [
    "azimuth = ph.AzimuthNN_base()  \n",
    "# Note that this class is not instantiated with a query, the query is only passed to it later."
   ]
  },
  {
   "cell_type": "code",
   "execution_count": null,
   "id": "4ab17e1f-539d-4a09-90c4-2072f7cb7ace",
   "metadata": {},
   "outputs": [],
   "source": [
    "# Pass a query in the form of an anndata object, an h5ad file, or the components thereof separately\n",
    "# You can optionally specify the column in query.var with the gene names just like in the previous section\n",
    "azimuth.query_adata(query)"
   ]
  },
  {
   "cell_type": "code",
   "execution_count": null,
   "id": "93a2fe26-0062-4372-ad3c-e58dc3754ec9",
   "metadata": {
    "scrolled": true
   },
   "outputs": [],
   "source": [
    "# Inference\n",
    "azimuth.process_query()\n",
    "azimuth.run_inference_model()\n",
    "_ = azimuth.process_outputs()"
   ]
  },
  {
   "cell_type": "code",
   "execution_count": null,
   "id": "fa64d709-9806-45d2-8d4a-87577eb3cce4",
   "metadata": {},
   "outputs": [],
   "source": [
    "# (Optional) refinement of labels for consistent granularity and ease of interpretation\n",
    "_ = azimuth.refine_labels(refine_level = 'broad')\n",
    "_ = azimuth.refine_labels(refine_level = 'medium')\n",
    "_ = azimuth.refine_labels(refine_level = 'fine')"
   ]
  },
  {
   "cell_type": "code",
   "execution_count": null,
   "id": "c7f4043c-69ec-439e-a932-f1005610cc1e",
   "metadata": {},
   "outputs": [],
   "source": [
    "# Update metadata with annotations and read the updated cell metadata\n",
    "azimuth.update_cells_meta()\n",
    "cell_metadata = azimuth.cells_meta"
   ]
  },
  {
   "cell_type": "code",
   "execution_count": null,
   "id": "3c4e8ebf-0705-45be-8bf1-a02198272acf",
   "metadata": {},
   "outputs": [],
   "source": [
    "# For Azimuth NN embeddings and the corresponding umap\n",
    "embeddings = azimuth.inference_model_embeddings(embedding_layer_name = 'dense_3')\n",
    "umap = azimuth.inference_model_umaps(embedding_layer_name='dense_3')"
   ]
  },
  {
   "cell_type": "code",
   "execution_count": null,
   "id": "40b4cb6a-99fa-4792-904b-b66d9097a05c",
   "metadata": {},
   "outputs": [],
   "source": [
    "# To pack metadata updated with annotations, and any low dimensional representations computed into an anndata obj\n",
    "annotated_query = azimuth.pack_adata()"
   ]
  }
 ],
 "metadata": {
  "kernelspec": {
   "display_name": "Python 3 (ipykernel)",
   "language": "python",
   "name": "python3"
  },
  "language_info": {
   "codemirror_mode": {
    "name": "ipython",
    "version": 3
   },
   "file_extension": ".py",
   "mimetype": "text/x-python",
   "name": "python",
   "nbconvert_exporter": "python",
   "pygments_lexer": "ipython3",
   "version": "3.9.21"
  }
 },
 "nbformat": 4,
 "nbformat_minor": 5
}
